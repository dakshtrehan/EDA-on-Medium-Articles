{
  "nbformat": 4,
  "nbformat_minor": 0,
  "metadata": {
    "colab": {
      "name": "Scrap Medium.ipynb",
      "provenance": [],
      "collapsed_sections": []
    },
    "kernelspec": {
      "name": "python3",
      "display_name": "Python 3"
    },
    "language_info": {
      "name": "python"
    },
    "accelerator": "GPU"
  },
  "cells": [
    {
      "cell_type": "code",
      "metadata": {
        "id": "DIwSxpRNWI5u"
      },
      "source": [
        "import requests\n",
        "from bs4 import BeautifulSoup\n",
        "import pandas as pd\n",
        "import random\n",
        "import os"
      ],
      "execution_count": null,
      "outputs": []
    },
    {
      "cell_type": "code",
      "metadata": {
        "id": "EJWlo2Z5WOm3"
      },
      "source": [
        "urls = {\n",
        "    'Towards Data Science': 'https://towardsdatascience.com/archive/{0}/{1:02d}/{2:02d}',\n",
        "    'Towards AI': 'https://pub.towardsai.net/archive/{0}/{1:02d}/{2:02d}',\n",
        "    'The Startup': 'https://medium.com/swlh/archive/{0}/{1:02d}/{2:02d}',\n",
        "    'Analytics Vidhya': 'https://medium.com/analytics-vidhya/archive/{0}/{1:02d}/{2:02d}',\n",
        "    'Level Up Coding': 'https://levelup.gitconnected.com/archive/{0}/{1:02d}/{2:02d}',\n",
        "    'MLearning.ai': 'https://medium.com/mlearning-ai/archive/{0}/{1:02d}/{2:02d}',\n",
        "}"
      ],
      "execution_count": null,
      "outputs": []
    },
    {
      "cell_type": "code",
      "metadata": {
        "id": "XKFiHqfKWO8f"
      },
      "source": [
        "def is_leap(year):\n",
        "    if year % 4 != 0:\n",
        "        return False\n",
        "    elif year % 100 != 0:\n",
        "        return True\n",
        "    elif year % 400 != 0:\n",
        "        return False\n",
        "    else:\n",
        "        return True\n",
        "    \n",
        "def convert_day(day, year):\n",
        "    month_days = [31, 29 if is_leap(year) else 28, 31, 30, 31, 30, 31, 31, 30, 31, 30, 31]\n",
        "    m = 0\n",
        "    d = 0\n",
        "    while day > 0:\n",
        "        d = day\n",
        "        day -= month_days[m]\n",
        "        m += 1\n",
        "    return (m, d)\n",
        "\n",
        "def get_claps(claps_str):\n",
        "    if (claps_str is None) or (claps_str == '') or (claps_str.split is None):\n",
        "        return 0\n",
        "    split = claps_str.split('K')\n",
        "    claps = float(split[0])\n",
        "    claps = int(claps*1000) if len(split) == 2 else int(claps)\n",
        "    return claps\n",
        "\n",
        "def get_img(img_url, dest_folder, dest_filename):\n",
        "    ext = img_url.split('.')[-1]\n",
        "    if len(ext) > 4:\n",
        "        ext = 'jpg'\n",
        "    dest_filename = f'{dest_filename}.{ext}'\n",
        "    with open(f'{dest_folder}/{dest_filename}', 'wb') as f:\n",
        "        f.write(requests.get(img_url, allow_redirects=False).content)\n",
        "    return dest_filename"
      ],
      "execution_count": null,
      "outputs": []
    },
    {
      "cell_type": "code",
      "metadata": {
        "id": "98VozDt6WRkB"
      },
      "source": [
        "year = 2021\n",
        "selected_days = random.sample([i for i in range(1, 367 if is_leap(year) else 366)], 15)\n",
        "\n",
        "img_dir = 'images'\n",
        "if not os.path.exists(img_dir):\n",
        "    os.mkdir(img_dir)"
      ],
      "execution_count": null,
      "outputs": []
    },
    {
      "cell_type": "code",
      "metadata": {
        "colab": {
          "base_uri": "https://localhost:8080/"
        },
        "id": "v7yOMLOOWU3y",
        "outputId": "229bc1e0-c667-4fa5-b4df-ff783a287898"
      },
      "source": [
        "data = []\n",
        "article_id = 0\n",
        "i = 0\n",
        "n = len(selected_days)\n",
        "for d in selected_days:\n",
        "    i += 1\n",
        "    month, day = convert_day(d, year)\n",
        "    date = '{0}-{1:02d}-{2:02d}'.format(year, month, day)\n",
        "    print(f'{i} / {n} ; {date}')\n",
        "    for publication, url in urls.items():\n",
        "        response = requests.get(url.format(year, month, day), allow_redirects=True)\n",
        "        if not response.url.startswith(url.format(year, month, day)):\n",
        "            continue\n",
        "        page = response.content\n",
        "        soup = BeautifulSoup(page, 'html.parser')\n",
        "        articles = soup.find_all(\"div\", class_=\"postArticle postArticle--short js-postArticle js-trackPostPresentation js-trackPostScrolls\")\n",
        "        for article in articles:\n",
        "            title = article.find(\"h3\", class_=\"graf--title\")\n",
        "            if title is None:\n",
        "                continue\n",
        "            title = title.contents[0]\n",
        "            article_id += 1\n",
        "            subtitle = article.find(\"h4\", class_=\"graf--subtitle\")\n",
        "            subtitle = subtitle.contents[0] if subtitle is not None else ''\n",
        "            image = article.find(\"img\", class_=\"graf-image\")\n",
        "            image = '' if image is None else get_img(image['src'], 'images', f'{article_id}')\n",
        "            article_url = article.find_all(\"a\")[3]['href'].split('?')[0]\n",
        "            claps = get_claps(article.find_all(\"button\")[1].contents[0])\n",
        "            reading_time = article.find(\"span\", class_=\"readingTime\")\n",
        "            reading_time = 0 if reading_time is None else int(reading_time['title'].split(' ')[0])\n",
        "            responses = article.find_all(\"a\")\n",
        "            if len(responses) == 7:\n",
        "                responses = responses[6].contents[0].split(' ')\n",
        "                if len(responses) == 0:\n",
        "                    responses = 0\n",
        "                else:\n",
        "                    responses = responses[0]\n",
        "            else:\n",
        "                responses = 0\n",
        "\n",
        "            data.append([article_id, article_url, title, subtitle, image, claps, responses, reading_time, publication, date])"
      ],
      "execution_count": null,
      "outputs": [
        {
          "output_type": "stream",
          "text": [
            "1 / 15 ; 2021-04-21\n",
            "2 / 15 ; 2021-04-09\n",
            "3 / 15 ; 2021-07-04\n",
            "4 / 15 ; 2021-04-08\n",
            "5 / 15 ; 2021-03-12\n",
            "6 / 15 ; 2021-11-07\n",
            "7 / 15 ; 2021-03-30\n",
            "8 / 15 ; 2021-06-23\n",
            "9 / 15 ; 2021-03-05\n",
            "10 / 15 ; 2021-01-11\n",
            "11 / 15 ; 2021-02-12\n",
            "12 / 15 ; 2021-05-25\n",
            "13 / 15 ; 2021-10-15\n",
            "14 / 15 ; 2021-04-12\n",
            "15 / 15 ; 2021-12-03\n"
          ],
          "name": "stdout"
        }
      ]
    },
    {
      "cell_type": "code",
      "metadata": {
        "id": "DPtfEUkEWaGQ"
      },
      "source": [
        "medium_df = pd.DataFrame(data, columns=['id', 'url', 'title', 'subtitle', 'image', 'claps', 'responses', 'reading_time', 'publication', 'date'])"
      ],
      "execution_count": null,
      "outputs": []
    },
    {
      "cell_type": "code",
      "metadata": {
        "colab": {
          "base_uri": "https://localhost:8080/",
          "height": 932
        },
        "id": "R0oE-womWexj",
        "outputId": "8efc6ee1-6d5e-495d-a3ca-8c73234214e6"
      },
      "source": [
        "medium_df"
      ],
      "execution_count": null,
      "outputs": [
        {
          "output_type": "execute_result",
          "data": {
            "text/html": [
              "<div>\n",
              "<style scoped>\n",
              "    .dataframe tbody tr th:only-of-type {\n",
              "        vertical-align: middle;\n",
              "    }\n",
              "\n",
              "    .dataframe tbody tr th {\n",
              "        vertical-align: top;\n",
              "    }\n",
              "\n",
              "    .dataframe thead th {\n",
              "        text-align: right;\n",
              "    }\n",
              "</style>\n",
              "<table border=\"1\" class=\"dataframe\">\n",
              "  <thead>\n",
              "    <tr style=\"text-align: right;\">\n",
              "      <th></th>\n",
              "      <th>id</th>\n",
              "      <th>url</th>\n",
              "      <th>title</th>\n",
              "      <th>subtitle</th>\n",
              "      <th>image</th>\n",
              "      <th>claps</th>\n",
              "      <th>responses</th>\n",
              "      <th>reading_time</th>\n",
              "      <th>publication</th>\n",
              "      <th>date</th>\n",
              "    </tr>\n",
              "  </thead>\n",
              "  <tbody>\n",
              "    <tr>\n",
              "      <th>0</th>\n",
              "      <td>1</td>\n",
              "      <td>https://towardsdatascience.com/freelancing-sel...</td>\n",
              "      <td>Freelancing, Self-Learning, and the Importance...</td>\n",
              "      <td></td>\n",
              "      <td>1.png</td>\n",
              "      <td>288</td>\n",
              "      <td>1</td>\n",
              "      <td>6</td>\n",
              "      <td>Towards Data Science</td>\n",
              "      <td>2021-04-21</td>\n",
              "    </tr>\n",
              "    <tr>\n",
              "      <th>1</th>\n",
              "      <td>2</td>\n",
              "      <td>https://towardsdatascience.com/build-and-run-a...</td>\n",
              "      <td>Build and Run a Docker Container for your Mach...</td>\n",
              "      <td>A quick and easy build of a Docker…</td>\n",
              "      <td>2.jpeg</td>\n",
              "      <td>189</td>\n",
              "      <td>2</td>\n",
              "      <td>4</td>\n",
              "      <td>Towards Data Science</td>\n",
              "      <td>2021-04-21</td>\n",
              "    </tr>\n",
              "    <tr>\n",
              "      <th>2</th>\n",
              "      <td>3</td>\n",
              "      <td>https://towardsdatascience.com/best-library-to...</td>\n",
              "      <td>Best Library To Simplify Math For Machine Lear...</td>\n",
              "      <td>Using the sympy Python library to simplify…</td>\n",
              "      <td>3.jpeg</td>\n",
              "      <td>310</td>\n",
              "      <td>1</td>\n",
              "      <td>7</td>\n",
              "      <td>Towards Data Science</td>\n",
              "      <td>2021-04-21</td>\n",
              "    </tr>\n",
              "    <tr>\n",
              "      <th>3</th>\n",
              "      <td>4</td>\n",
              "      <td>https://towardsdatascience.com/dont-waste-time...</td>\n",
              "      <td>Don’t Waste Time Building Your Data Science Ne...</td>\n",
              "      <td>Focus On What Matters</td>\n",
              "      <td>4.jpg</td>\n",
              "      <td>137</td>\n",
              "      <td>4</td>\n",
              "      <td>5</td>\n",
              "      <td>Towards Data Science</td>\n",
              "      <td>2021-04-21</td>\n",
              "    </tr>\n",
              "    <tr>\n",
              "      <th>4</th>\n",
              "      <td>5</td>\n",
              "      <td>https://towardsdatascience.com/the-highest-dat...</td>\n",
              "      <td>The Highest Data Science Salaries</td>\n",
              "      <td>A deep dive into Data Science employment level...</td>\n",
              "      <td>5.jpeg</td>\n",
              "      <td>296</td>\n",
              "      <td>2</td>\n",
              "      <td>5</td>\n",
              "      <td>Towards Data Science</td>\n",
              "      <td>2021-04-21</td>\n",
              "    </tr>\n",
              "    <tr>\n",
              "      <th>...</th>\n",
              "      <td>...</td>\n",
              "      <td>...</td>\n",
              "      <td>...</td>\n",
              "      <td>...</td>\n",
              "      <td>...</td>\n",
              "      <td>...</td>\n",
              "      <td>...</td>\n",
              "      <td>...</td>\n",
              "      <td>...</td>\n",
              "      <td>...</td>\n",
              "    </tr>\n",
              "    <tr>\n",
              "      <th>941</th>\n",
              "      <td>942</td>\n",
              "      <td>https://levelup.gitconnected.com/build-ai-for-...</td>\n",
              "      <td>Build AI for Generating Quant Trading Strategi...</td>\n",
              "      <td></td>\n",
              "      <td>942.png</td>\n",
              "      <td>146</td>\n",
              "      <td>0</td>\n",
              "      <td>8</td>\n",
              "      <td>Level Up Coding</td>\n",
              "      <td>2021-04-12</td>\n",
              "    </tr>\n",
              "    <tr>\n",
              "      <th>942</th>\n",
              "      <td>943</td>\n",
              "      <td>https://levelup.gitconnected.com/deploy-your-r...</td>\n",
              "      <td>Deploy Your React Application to AWS Using a S...</td>\n",
              "      <td></td>\n",
              "      <td>943.png</td>\n",
              "      <td>39</td>\n",
              "      <td>0</td>\n",
              "      <td>6</td>\n",
              "      <td>Level Up Coding</td>\n",
              "      <td>2021-04-12</td>\n",
              "    </tr>\n",
              "    <tr>\n",
              "      <th>943</th>\n",
              "      <td>944</td>\n",
              "      <td>https://medium.com/mlearning-ai/machine-learni...</td>\n",
              "      <td>Machine Learning/AI Bias</td>\n",
              "      <td></td>\n",
              "      <td>944.png</td>\n",
              "      <td>9</td>\n",
              "      <td>0</td>\n",
              "      <td>5</td>\n",
              "      <td>MLearning.ai</td>\n",
              "      <td>2021-04-12</td>\n",
              "    </tr>\n",
              "    <tr>\n",
              "      <th>944</th>\n",
              "      <td>945</td>\n",
              "      <td>https://medium.com/mlearning-ai/the-heart-of-l...</td>\n",
              "      <td>The heart of logistic regression</td>\n",
              "      <td></td>\n",
              "      <td>945.jpeg</td>\n",
              "      <td>6</td>\n",
              "      <td>0</td>\n",
              "      <td>9</td>\n",
              "      <td>MLearning.ai</td>\n",
              "      <td>2021-04-12</td>\n",
              "    </tr>\n",
              "    <tr>\n",
              "      <th>945</th>\n",
              "      <td>946</td>\n",
              "      <td>https://medium.com/mlearning-ai/adding-ai-to-f...</td>\n",
              "      <td>Adding AI to financial modeling</td>\n",
              "      <td></td>\n",
              "      <td>946.jpeg</td>\n",
              "      <td>4</td>\n",
              "      <td>0</td>\n",
              "      <td>5</td>\n",
              "      <td>MLearning.ai</td>\n",
              "      <td>2021-04-12</td>\n",
              "    </tr>\n",
              "  </tbody>\n",
              "</table>\n",
              "<p>946 rows × 10 columns</p>\n",
              "</div>"
            ],
            "text/plain": [
              "      id  ...        date\n",
              "0      1  ...  2021-04-21\n",
              "1      2  ...  2021-04-21\n",
              "2      3  ...  2021-04-21\n",
              "3      4  ...  2021-04-21\n",
              "4      5  ...  2021-04-21\n",
              "..   ...  ...         ...\n",
              "941  942  ...  2021-04-12\n",
              "942  943  ...  2021-04-12\n",
              "943  944  ...  2021-04-12\n",
              "944  945  ...  2021-04-12\n",
              "945  946  ...  2021-04-12\n",
              "\n",
              "[946 rows x 10 columns]"
            ]
          },
          "metadata": {
            "tags": []
          },
          "execution_count": 20
        }
      ]
    },
    {
      "cell_type": "code",
      "metadata": {
        "id": "ZwfxellJWfeG"
      },
      "source": [
        "medium_df.to_csv('medium_data2021.csv', index=False)"
      ],
      "execution_count": null,
      "outputs": []
    },
    {
      "cell_type": "code",
      "metadata": {
        "id": "wlPTENuUbOjM"
      },
      "source": [
        ""
      ],
      "execution_count": null,
      "outputs": []
    }
  ]
}